{
 "cells": [
  {
   "cell_type": "code",
   "execution_count": 6,
   "id": "4de28e5e",
   "metadata": {},
   "outputs": [
    {
     "data": {
      "text/html": [
       "<div>\n",
       "<style scoped>\n",
       "    .dataframe tbody tr th:only-of-type {\n",
       "        vertical-align: middle;\n",
       "    }\n",
       "\n",
       "    .dataframe tbody tr th {\n",
       "        vertical-align: top;\n",
       "    }\n",
       "\n",
       "    .dataframe thead th {\n",
       "        text-align: right;\n",
       "    }\n",
       "</style>\n",
       "<table border=\"1\" class=\"dataframe\">\n",
       "  <thead>\n",
       "    <tr style=\"text-align: right;\">\n",
       "      <th></th>\n",
       "      <th>statistikkvariabel</th>\n",
       "      <th>region</th>\n",
       "      <th>kjønn</th>\n",
       "      <th>alder</th>\n",
       "      <th>år</th>\n",
       "      <th>antall</th>\n",
       "    </tr>\n",
       "  </thead>\n",
       "  <tbody>\n",
       "    <tr>\n",
       "      <th>0</th>\n",
       "      <td>4.0,No,4.0,6.0,No,13.0,5.0,Extrovert</td>\n",
       "      <td>NaN</td>\n",
       "      <td>NaN</td>\n",
       "      <td>NaN</td>\n",
       "      <td>2011</td>\n",
       "      <td>NaN</td>\n",
       "    </tr>\n",
       "    <tr>\n",
       "      <th>1</th>\n",
       "      <td>9.0,Yes,0.0,0.0,Yes,0.0,3.0,Introvert</td>\n",
       "      <td>NaN</td>\n",
       "      <td>NaN</td>\n",
       "      <td>NaN</td>\n",
       "      <td>2011</td>\n",
       "      <td>NaN</td>\n",
       "    </tr>\n",
       "    <tr>\n",
       "      <th>2</th>\n",
       "      <td>9.0,Yes,1.0,2.0,Yes,5.0,2.0,Introvert</td>\n",
       "      <td>NaN</td>\n",
       "      <td>NaN</td>\n",
       "      <td>NaN</td>\n",
       "      <td>2011</td>\n",
       "      <td>NaN</td>\n",
       "    </tr>\n",
       "    <tr>\n",
       "      <th>3</th>\n",
       "      <td>0.0,No,6.0,7.0,No,14.0,8.0,Extrovert</td>\n",
       "      <td>NaN</td>\n",
       "      <td>NaN</td>\n",
       "      <td>NaN</td>\n",
       "      <td>2011</td>\n",
       "      <td>NaN</td>\n",
       "    </tr>\n",
       "    <tr>\n",
       "      <th>4</th>\n",
       "      <td>3.0,No,9.0,4.0,No,8.0,5.0,Extrovert</td>\n",
       "      <td>NaN</td>\n",
       "      <td>NaN</td>\n",
       "      <td>NaN</td>\n",
       "      <td>2011</td>\n",
       "      <td>NaN</td>\n",
       "    </tr>\n",
       "  </tbody>\n",
       "</table>\n",
       "</div>"
      ],
      "text/plain": [
       "                      statistikkvariabel  region  kjønn  alder    år  antall\n",
       "0   4.0,No,4.0,6.0,No,13.0,5.0,Extrovert     NaN    NaN    NaN  2011     NaN\n",
       "1  9.0,Yes,0.0,0.0,Yes,0.0,3.0,Introvert     NaN    NaN    NaN  2011     NaN\n",
       "2  9.0,Yes,1.0,2.0,Yes,5.0,2.0,Introvert     NaN    NaN    NaN  2011     NaN\n",
       "3   0.0,No,6.0,7.0,No,14.0,8.0,Extrovert     NaN    NaN    NaN  2011     NaN\n",
       "4    3.0,No,9.0,4.0,No,8.0,5.0,Extrovert     NaN    NaN    NaN  2011     NaN"
      ]
     },
     "execution_count": 6,
     "metadata": {},
     "output_type": "execute_result"
    }
   ],
   "source": [
    "import sys\n",
    "sys.path.append(\"..\")\n",
    "\n",
    "from data_normalization import data_normalization\n",
    "df = data_normalization(\"../data/personality_dataset.csv\")\n",
    "\n",
    "df.head()\n"
   ]
  }
 ],
 "metadata": {
  "kernelspec": {
   "display_name": "Python 3",
   "language": "python",
   "name": "python3"
  },
  "language_info": {
   "codemirror_mode": {
    "name": "ipython",
    "version": 3
   },
   "file_extension": ".py",
   "mimetype": "text/x-python",
   "name": "python",
   "nbconvert_exporter": "python",
   "pygments_lexer": "ipython3",
   "version": "3.11.9"
  }
 },
 "nbformat": 4,
 "nbformat_minor": 5
}
